{
 "cells": [
  {
   "cell_type": "markdown",
   "id": "b9860d62",
   "metadata": {},
   "source": [
    "# Introduction to Pandas DataFrames"
   ]
  },
  {
   "cell_type": "markdown",
   "id": "b94aabda",
   "metadata": {},
   "source": [
    "![Panda](panda.png)"
   ]
  },
  {
   "cell_type": "markdown",
   "id": "513d3cee",
   "metadata": {},
   "source": [
    "[Pandas](https://pandas.pydata.org/) is a powerful and versatile library for Python, designed primarily for data manipulation and analysis. To quote from Nvidia’s website:"
   ]
  },
  {
   "cell_type": "markdown",
   "id": "4f0c2504",
   "metadata": {},
   "source": [
    "> Pandas is the most popular software library for data manipulation and data analysis for the Python programming language. \n",
    "> ([www.nvidia.com](https://www.nvidia.com/en-us/glossary/pandas-python/))"
   ]
  },
  {
   "cell_type": "markdown",
   "id": "96ce22be",
   "metadata": {},
   "source": [
    "Here is an (incomplete) list of some key functionalities provided by Pandas:"
   ]
  },
  {
   "cell_type": "markdown",
   "id": "192d11d3",
   "metadata": {},
   "source": [
    "\n",
    " 1. **Data Structures**\n",
    "    1. Series: One-dimensional labeled array capable of holding data of any type.\n",
    "    2. DataFrame: Two-dimensional, size-mutable, potentially heterogeneous tabular data structure with labeled axes (rows and columns).\n",
    "2. **Data Manipulation**\n",
    "    1. Data Selection and Indexing: Access data via labels, indices, or boolean masks (```.loc```, ```.iloc```, ```.at```, ```.iat```).\n",
    "    2. Filtering: Filter data based on conditions or queries.\n",
    "    3. Sorting: Sort data by labels or values.\n",
    "    4. Handling Missing Data: Identify, fill, or drop missing values (```isnull```, ```dropna```, ```fillna```).\n",
    "3. **Data Cleaning**\n",
    "    1. Dropping Duplicates: Remove duplicate rows or columns.\n",
    "    2. Replacing Values: Replace specific values in the DataFrame.\n",
    "    3. String Operations: Perform operations on string data, like splitting, replacing, and pattern matching (```str.split```, ```str.replace```).\n",
    "4. **Aggregation and Grouping**\n",
    "    1. Group By: Split data into groups based on criteria, and perform aggregate functions like sum, mean, or custom operations.\n",
    "    2. Pivot Tables: Create a pivot table to summarize data.\n",
    "5. **Merging and Joining**\n",
    "    1. Concatenation: Combine multiple DataFrames along a particular axis.\n",
    "    2. Merging: Merge DataFrames similar to SQL joins (```merge```, ```join```).\n",
    "6. **Time Series**\n",
    "    1. Datetime Conversion: Convert date and time data to a datetime object.\n",
    "    2. Resampling: Aggregate data over a time period.\n",
    "    3. Time-based Indexing: Access and manipulate time-series data easily with date indexing.\n",
    "7. **Statistical and Mathematical Operations**\n",
    "    1. Descriptive Statistics: Compute summary statistics for DataFrame columns.\n",
    "    2. Correlation/ Covariance: Calculate the pairwise correlation or covariance between columns.\n",
    "    3. Cumulative Operations: Perform cumulative operations on data."
   ]
  },
  {
   "cell_type": "markdown",
   "id": "0cd0fa2b",
   "metadata": {},
   "source": [
    "At the heart of Pandas lies the DataFrame, a two-dimensional labeled data structure with columns of potentially different types, similar to a table in a relational database or an Excel spreadsheet. Understanding DataFrames is crucial for anyone looking to perform data analysis in Python."
   ]
  },
  {
   "cell_type": "markdown",
   "id": "01c76bd0",
   "metadata": {},
   "source": [
    "# What is a DataFrame?\n",
    "---"
   ]
  },
  {
   "cell_type": "markdown",
   "id": "f57b7fcd",
   "metadata": {},
   "source": [
    "A DataFrame is a table-like structure in Pandas that consists of rows and columns, where each column can hold different data types (e.g., integers, floats, strings). You can think of it as a collection of Series objects, where each Series is a single column of data. DataFrames provide a highly efficient way to store and manipulate large datasets in memory."
   ]
  },
  {
   "cell_type": "markdown",
   "id": "f5c308bb",
   "metadata": {},
   "source": [
    "# Creating a DataFrame\n",
    "---"
   ]
  },
  {
   "cell_type": "markdown",
   "id": "4c574275",
   "metadata": {},
   "source": [
    "There are several ways to create a DataFrame in Pandas, but some of the most common methods are:"
   ]
  },
  {
   "cell_type": "markdown",
   "id": "c9bfa030",
   "metadata": {},
   "source": [
    "\n",
    "1. From a Dictionary\n",
    "2. From a List of Lists\n",
    "3. From a CSV File\n"
   ]
  },
  {
   "cell_type": "markdown",
   "id": "dac3bfb0",
   "metadata": {},
   "source": [
    "Below we take a look at the first two approaches."
   ]
  },
  {
   "cell_type": "markdown",
   "id": "fd2f4ef6",
   "metadata": {},
   "source": [
    "# Creating DataFrame from a Dictionary"
   ]
  },
  {
   "cell_type": "markdown",
   "id": "31a5286f",
   "metadata": {},
   "source": [
    "The following code will create a DataFrame with three columns: ‘Name’, ‘Age’, and ‘City’, and three rows corresponding to the data provided in the dictionary. To be able to use Pandas, we first have to import it. This is done using the command ```import pandas as pd```, introducing the alias ```pd``` for Pandas."
   ]
  },
  {
   "cell_type": "code",
   "execution_count": 8,
   "id": "c4e235f6",
   "metadata": {},
   "outputs": [
    {
     "data": {
      "text/html": [
       "<div>\n",
       "<style scoped>\n",
       "    .dataframe tbody tr th:only-of-type {\n",
       "        vertical-align: middle;\n",
       "    }\n",
       "\n",
       "    .dataframe tbody tr th {\n",
       "        vertical-align: top;\n",
       "    }\n",
       "\n",
       "    .dataframe thead th {\n",
       "        text-align: right;\n",
       "    }\n",
       "</style>\n",
       "<table border=\"1\" class=\"dataframe\">\n",
       "  <thead>\n",
       "    <tr style=\"text-align: right;\">\n",
       "      <th></th>\n",
       "      <th>Name</th>\n",
       "      <th>Age</th>\n",
       "      <th>City</th>\n",
       "    </tr>\n",
       "  </thead>\n",
       "  <tbody>\n",
       "    <tr>\n",
       "      <th>0</th>\n",
       "      <td>Alice</td>\n",
       "      <td>25</td>\n",
       "      <td>New York</td>\n",
       "    </tr>\n",
       "    <tr>\n",
       "      <th>1</th>\n",
       "      <td>Bob</td>\n",
       "      <td>30</td>\n",
       "      <td>Los Angeles</td>\n",
       "    </tr>\n",
       "    <tr>\n",
       "      <th>2</th>\n",
       "      <td>Charlie</td>\n",
       "      <td>35</td>\n",
       "      <td>Chicago</td>\n",
       "    </tr>\n",
       "  </tbody>\n",
       "</table>\n",
       "</div>"
      ],
      "text/plain": [
       "      Name  Age         City\n",
       "0    Alice   25     New York\n",
       "1      Bob   30  Los Angeles\n",
       "2  Charlie   35      Chicago"
      ]
     },
     "execution_count": 8,
     "metadata": {},
     "output_type": "execute_result"
    }
   ],
   "source": [
    "import pandas as pd\n",
    "\n",
    "data = {\n",
    "    'Name': ['Alice', 'Bob', 'Charlie'],\n",
    "    'Age': [25, 30, 35],\n",
    "    'City': ['New York', 'Los Angeles', 'Chicago']\n",
    "}\n",
    "\n",
    "df = pd.DataFrame(data)\n",
    "df"
   ]
  },
  {
   "cell_type": "markdown",
   "id": "aa9e4b7e",
   "metadata": {},
   "source": [
    "# Creating DataFrame from a List of Lists"
   ]
  },
  {
   "cell_type": "markdown",
   "id": "2323f9be",
   "metadata": {},
   "source": [
    "Here, we create the DataFrame from a list of lists where each inner list represents the values for one row. Note that We explicitly specify the column names when creating the DataFrame."
   ]
  },
  {
   "cell_type": "code",
   "execution_count": 6,
   "id": "24477361",
   "metadata": {},
   "outputs": [
    {
     "data": {
      "text/html": [
       "<div>\n",
       "<style scoped>\n",
       "    .dataframe tbody tr th:only-of-type {\n",
       "        vertical-align: middle;\n",
       "    }\n",
       "\n",
       "    .dataframe tbody tr th {\n",
       "        vertical-align: top;\n",
       "    }\n",
       "\n",
       "    .dataframe thead th {\n",
       "        text-align: right;\n",
       "    }\n",
       "</style>\n",
       "<table border=\"1\" class=\"dataframe\">\n",
       "  <thead>\n",
       "    <tr style=\"text-align: right;\">\n",
       "      <th></th>\n",
       "      <th>Name</th>\n",
       "      <th>Age</th>\n",
       "      <th>City</th>\n",
       "    </tr>\n",
       "  </thead>\n",
       "  <tbody>\n",
       "    <tr>\n",
       "      <th>0</th>\n",
       "      <td>Alice</td>\n",
       "      <td>25</td>\n",
       "      <td>New York</td>\n",
       "    </tr>\n",
       "    <tr>\n",
       "      <th>1</th>\n",
       "      <td>Bob</td>\n",
       "      <td>30</td>\n",
       "      <td>Los Angeles</td>\n",
       "    </tr>\n",
       "    <tr>\n",
       "      <th>2</th>\n",
       "      <td>Charlie</td>\n",
       "      <td>35</td>\n",
       "      <td>Chicago</td>\n",
       "    </tr>\n",
       "  </tbody>\n",
       "</table>\n",
       "</div>"
      ],
      "text/plain": [
       "      Name  Age         City\n",
       "0    Alice   25     New York\n",
       "1      Bob   30  Los Angeles\n",
       "2  Charlie   35      Chicago"
      ]
     },
     "execution_count": 6,
     "metadata": {},
     "output_type": "execute_result"
    }
   ],
   "source": [
    "data = [\n",
    "    ['Alice', 25, 'New York'],\n",
    "    ['Bob', 30, 'Los Angeles'],\n",
    "    ['Charlie', 35, 'Chicago']\n",
    "]\n",
    "\n",
    "df = pd.DataFrame(data, columns=['Name', 'Age', 'City'])\n",
    "df"
   ]
  },
  {
   "cell_type": "markdown",
   "id": "12657c23",
   "metadata": {},
   "source": [
    "# Accessing Data in a DataFrame\n",
    "---"
   ]
  },
  {
   "cell_type": "markdown",
   "id": "f0787ac8",
   "metadata": {},
   "source": [
    "Once you have a DataFrame, you can access its data in various ways:"
   ]
  },
  {
   "cell_type": "markdown",
   "id": "00429b5e",
   "metadata": {},
   "source": [
    "- By column name:"
   ]
  },
  {
   "cell_type": "code",
   "execution_count": 12,
   "id": "904e6ae2",
   "metadata": {},
   "outputs": [
    {
     "data": {
      "text/plain": [
       "0      Alice\n",
       "1        Bob\n",
       "2    Charlie\n",
       "Name: Name, dtype: object"
      ]
     },
     "execution_count": 12,
     "metadata": {},
     "output_type": "execute_result"
    }
   ],
   "source": [
    "df['Name']"
   ]
  },
  {
   "cell_type": "markdown",
   "id": "3c52ff65",
   "metadata": {},
   "source": [
    "- By row index:"
   ]
  },
  {
   "cell_type": "code",
   "execution_count": 13,
   "id": "adaddc41",
   "metadata": {},
   "outputs": [
    {
     "data": {
      "text/plain": [
       "Name       Alice\n",
       "Age           25\n",
       "City    New York\n",
       "Name: 0, dtype: object"
      ]
     },
     "execution_count": 13,
     "metadata": {},
     "output_type": "execute_result"
    }
   ],
   "source": [
    "df.iloc[0]"
   ]
  },
  {
   "cell_type": "markdown",
   "id": "8dffc021",
   "metadata": {},
   "source": [
    "- Using both:"
   ]
  },
  {
   "cell_type": "code",
   "execution_count": 14,
   "id": "40fedb2b",
   "metadata": {},
   "outputs": [
    {
     "data": {
      "text/plain": [
       "'Alice'"
      ]
     },
     "execution_count": 14,
     "metadata": {},
     "output_type": "execute_result"
    }
   ],
   "source": [
    "df.loc[0, 'Name']"
   ]
  },
  {
   "cell_type": "markdown",
   "id": "8cabe22f",
   "metadata": {},
   "source": [
    "# Conclusion\n",
    "---"
   ]
  },
  {
   "cell_type": "markdown",
   "id": "25d5c9ac",
   "metadata": {},
   "source": [
    "Pandas DataFrames are a fundamental tool in the data analysis toolkit for Python users. They provide a powerful way to organize, manipulate, and analyze data efficiently. Whether you’re working with small datasets or handling large-scale data, mastering DataFrames will allow you to tackle a wide range of data-related tasks with ease."
   ]
  },
  {
   "cell_type": "markdown",
   "id": "57a495da",
   "metadata": {},
   "source": [
    "In this introduction, we’ve covered the basics of what a DataFrame is, how to create one, and how to access columns, rows, and individual cells in a DataFrame. As you continue to explore Pandas, you’ll discover many more features and capabilities that make DataFrames an indispensable part of Python programming. The table below contains a number of resources related to Pandas."
   ]
  },
  {
   "cell_type": "markdown",
   "id": "aabbf2ff",
   "metadata": {},
   "source": [
    "**Resource** | **Description** \n",
    "----------- | ----------- \n",
    "[Pandas Documentation](https://pandas.pydata.org/) | Official documentation for Pandas. \n",
    "[Python for Data Analysis](https://www.oreilly.com/library/view/python-for-data/9781491957653/) | Comprehensive guide by Pandas creator, Wes McKinney.\n",
    "[Real Python: The Pandas DataFrame](https://realpython.com/pandas-dataframe/) | Tutorials on using Pandas for data analysis. \n",
    "[Kaggle Pandas](https://www.kaggle.com/learn/pandas) | Free introductory course on Pandas by Kaggle. \n",
    "[DataCamp Pandas Tutorial](https://www.datacamp.com/tutorial/pandas-tutorial-dataframe-python) | Detailed tutorials and exercises on Pandas. \n",
    " "
   ]
  }
 ],
 "metadata": {
  "kernelspec": {
   "display_name": "base",
   "language": "python",
   "name": "python3"
  },
  "language_info": {
   "codemirror_mode": {
    "name": "ipython",
    "version": 3
   },
   "file_extension": ".py",
   "mimetype": "text/x-python",
   "name": "python",
   "nbconvert_exporter": "python",
   "pygments_lexer": "ipython3",
   "version": "3.12.4"
  }
 },
 "nbformat": 4,
 "nbformat_minor": 5
}
