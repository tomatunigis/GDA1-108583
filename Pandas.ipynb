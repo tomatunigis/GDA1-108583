{
 "cells": [
  {
   "cell_type": "markdown",
   "id": "b9860d62",
   "metadata": {},
   "source": [
    "# Introduction to Pandas DataFrames"
   ]
  },
  {
   "cell_type": "markdown",
   "id": "b94aabda",
   "metadata": {},
   "source": [
    "![Panda](panda.png)"
   ]
  },
  {
   "cell_type": "markdown",
   "id": "513d3cee",
   "metadata": {},
   "source": [
    "[Pandas](https://pandas.pydata.org/) is a powerful and versatile library for Python, designed primarily for data manipulation and analysis. To quote from Nvidia’s website:"
   ]
  },
  {
   "cell_type": "markdown",
   "id": "4f0c2504",
   "metadata": {},
   "source": [
    "> Pandas is the most popular software library for data manipulation and data analysis for the Python programming language. \n",
    "> ([www.nvidia.com](https://www.nvidia.com/en-us/glossary/pandas-python/))"
   ]
  },
  {
   "cell_type": "markdown",
   "id": "96ce22be",
   "metadata": {},
   "source": [
    "Here is an (incomplete) list of some key functionalities provided by Pandas:"
   ]
  },
  {
   "cell_type": "markdown",
   "id": "192d11d3",
   "metadata": {},
   "source": [
    "\n",
    " 1. **Data Structures**\n",
    "    1. Series: One-dimensional labeled array capable of holding data of any type.\n",
    "    2. DataFrame: Two-dimensional, size-mutable, potentially heterogeneous tabular data structure with labeled axes (rows and columns).\n",
    "2. **Data Manipulation**\n",
    "    1. Data Selection and Indexing: Access data via labels, indices, or boolean masks (```.loc```, ```.iloc```, ```.at```, ```.iat```).\n",
    "    2. Filtering: Filter data based on conditions or queries.\n",
    "    3. Sorting: Sort data by labels or values.\n",
    "    4. Handling Missing Data: Identify, fill, or drop missing values (```isnull```, ```dropna```, ```fillna```).\n",
    "3. **Data Cleaning**\n",
    "    1. Dropping Duplicates: Remove duplicate rows or columns.\n",
    "    2. Replacing Values: Replace specific values in the DataFrame.\n",
    "    3. String Operations: Perform operations on string data, like splitting, replacing, and pattern matching (```str.split```, ```str.replace```).\n",
    "4. **Aggregation and Grouping**\n",
    "    1. Group By: Split data into groups based on criteria, and perform aggregate functions like sum, mean, or custom operations.\n",
    "    2. Pivot Tables: Create a pivot table to summarize data.\n",
    "5. **Merging and Joining**\n",
    "    1. Concatenation: Combine multiple DataFrames along a particular axis.\n",
    "    2. Merging: Merge DataFrames similar to SQL joins (```merge```, ```join```).\n",
    "6. **Time Series**\n",
    "    1. Datetime Conversion: Convert date and time data to a datetime object.\n",
    "    2. Resampling: Aggregate data over a time period.\n",
    "    3. Time-based Indexing: Access and manipulate time-series data easily with date indexing.\n",
    "7. **Statistical and Mathematical Operations**\n",
    "    1. Descriptive Statistics: Compute summary statistics for DataFrame columns.\n",
    "    2. Correlation/ Covariance: Calculate the pairwise correlation or covariance between columns.\n",
    "    3. Cumulative Operations: Perform cumulative operations on data."
   ]
  },
  {
   "cell_type": "markdown",
   "id": "0cd0fa2b",
   "metadata": {},
   "source": [
    "At the heart of Pandas lies the DataFrame, a two-dimensional labeled data structure with columns of potentially different types, similar to a table in a relational database or an Excel spreadsheet. Understanding DataFrames is crucial for anyone looking to perform data analysis in Python."
   ]
  },
  {
   "cell_type": "markdown",
   "id": "01c76bd0",
   "metadata": {},
   "source": [
    "# What is a DataFrame?"
   ]
  },
  {
   "cell_type": "markdown",
   "id": "f57b7fcd",
   "metadata": {},
   "source": [
    "A DataFrame is a table-like structure in Pandas that consists of rows and columns, where each column can hold different data types (e.g., integers, floats, strings). You can think of it as a collection of Series objects, where each Series is a single column of data. DataFrames provide a highly efficient way to store and manipulate large datasets in memory."
   ]
  },
  {
   "cell_type": "markdown",
   "id": "f5c308bb",
   "metadata": {},
   "source": [
    "# Creating a DataFrame"
   ]
  },
  {
   "cell_type": "markdown",
   "id": "4c574275",
   "metadata": {},
   "source": [
    "There are several ways to create a DataFrame in Pandas, but some of the most common methods are:"
   ]
  },
  {
   "cell_type": "markdown",
   "id": "c9bfa030",
   "metadata": {},
   "source": [
    "\n",
    "1. From a Dictionary\n",
    "2. From a List of Lists\n",
    "3. From a CSV File\n"
   ]
  },
  {
   "cell_type": "markdown",
   "id": "dac3bfb0",
   "metadata": {},
   "source": [
    "Below we take a look at the first two approaches."
   ]
  },
  {
   "cell_type": "markdown",
   "id": "fd2f4ef6",
   "metadata": {},
   "source": [
    "# Creating DataFrame from a Dictionary"
   ]
  }
 ],
 "metadata": {
  "kernelspec": {
   "display_name": "Python 3 (ipykernel)",
   "language": "python",
   "name": "python3"
  },
  "language_info": {
   "codemirror_mode": {
    "name": "ipython",
    "version": 3
   },
   "file_extension": ".py",
   "mimetype": "text/x-python",
   "name": "python",
   "nbconvert_exporter": "python",
   "pygments_lexer": "ipython3",
   "version": "3.11.10"
  }
 },
 "nbformat": 4,
 "nbformat_minor": 5
}
